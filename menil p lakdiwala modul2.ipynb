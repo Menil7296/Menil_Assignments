{
 "cells": [
  {
   "cell_type": "code",
   "execution_count": 1,
   "id": "86153bc2",
   "metadata": {},
   "outputs": [
    {
     "name": "stdout",
     "output_type": "stream",
     "text": [
      "27\n",
      "positive number\n"
     ]
    }
   ],
   "source": [
    "\n",
    "# Write a Python program to check if a number is positive, negative or zero\n",
    "num=int(input())\n",
    "if num>0:\n",
    "    print('positive number')\n",
    "elif num==0:\n",
    "    print('zero')\n",
    "else:\n",
    "    print('negative number')\n",
    "    "
   ]
  },
  {
   "cell_type": "code",
   "execution_count": 2,
   "id": "154f9d50",
   "metadata": {},
   "outputs": [
    {
     "name": "stdout",
     "output_type": "stream",
     "text": [
      "7\n",
      "5040\n"
     ]
    }
   ],
   "source": [
    "# Write a Python program to get the Factorial number of given number  \n",
    "num=int(input())\n",
    "i=1\n",
    "while num>0:\n",
    "    i=i*num\n",
    "    num-=1\n",
    "    \n",
    "print(i)"
   ]
  },
  {
   "cell_type": "code",
   "execution_count": 3,
   "id": "c49a61e2",
   "metadata": {},
   "outputs": [
    {
     "name": "stdout",
     "output_type": "stream",
     "text": [
      "7\n",
      "0 1 1 2 3 5 8 "
     ]
    }
   ],
   "source": [
    "# Write a Python program to get the Fibonacci series of given range.\n",
    "num=int(input())\n",
    "a=0\n",
    "b=1\n",
    "i=1\n",
    "while num>=i:\n",
    "    c=a+b\n",
    "    print(a , end=' ')\n",
    "    i+=1\n",
    "    a=b\n",
    "    b=c"
   ]
  },
  {
   "cell_type": "code",
   "execution_count": null,
   "id": "613ebf29",
   "metadata": {},
   "outputs": [],
   "source": [
    "#How memory is managed in Python?\n",
    "#Memory management in Python involves a private heap containing all Python objects and data structures.\n",
    "#The management of this private heap is ensured internally by the Python memory manager.\n",
    "#The Python memory manager has different components which deal with various dynamic storage management aspects,\n",
    "#like sharing, segmentation, preallocation or caching.\n",
    "\n"
   ]
  },
  {
   "cell_type": "code",
   "execution_count": null,
   "id": "846efb1a",
   "metadata": {},
   "outputs": [],
   "source": [
    "# What is the purpose continue statement in python?\n",
    "#continue statement is used for continue from the next iteration\n",
    "#The continue statement rejects all the remaining statements in the current iteration\n",
    "#of the loop and moves the control back to the top of the loop.\n",
    "#The continue statement can be used in both while and for loops.\n"
   ]
  },
  {
   "cell_type": "code",
   "execution_count": null,
   "id": "f21df213",
   "metadata": {},
   "outputs": [],
   "source": [
    "#Write python program that swap two number with temp variable and without temp variable.\n",
    "m = 27\n",
    "h = 7\n",
    "temp = m\n",
    "m = h\n",
    "h = temp\n",
    "print(m,h)"
   ]
  },
  {
   "cell_type": "code",
   "execution_count": 4,
   "id": "77722333",
   "metadata": {},
   "outputs": [
    {
     "name": "stdout",
     "output_type": "stream",
     "text": [
      "27\n",
      "odd number\n"
     ]
    }
   ],
   "source": [
    "#Write a Python program to find whether a given number is even or odd, print out an appropriate message to the user.\n",
    "num=int(input())\n",
    "if num%2==0:\n",
    "    print('even number') \n",
    "else:\n",
    "    print('odd number')"
   ]
  },
  {
   "cell_type": "code",
   "execution_count": 5,
   "id": "cdcc4cab",
   "metadata": {},
   "outputs": [
    {
     "name": "stdout",
     "output_type": "stream",
     "text": [
      "alphbetH\n",
      "not vowel\n"
     ]
    }
   ],
   "source": [
    "# Write a Python program to test whether a passed letter is a vowel or not\n",
    "alphbet=input('alphbet')\n",
    "if 'a'==alphbet or 'e'==alphbet or 'i'==alphbet or 'o'==alphbet or 'u'==alphbet or 'A'==alphbet or 'E'==alphbet or 'I'==alphbet or 'O'==alphbet or 'U'==alphbet:\n",
    "    print('vowel alphabet' ,)\n",
    "else:\n",
    "    print('not vowel')\n",
    "    "
   ]
  },
  {
   "cell_type": "code",
   "execution_count": 7,
   "id": "eaab88a8",
   "metadata": {},
   "outputs": [
    {
     "name": "stdout",
     "output_type": "stream",
     "text": [
      "27\n",
      "27\n",
      "7\n",
      "sum will be zero\n"
     ]
    }
   ],
   "source": [
    "#Write a Python program to sum of three given integers. However, if two values are equal sum will be zero\n",
    "v1=int(input())\n",
    "v2=int(input())\n",
    "v3=int(input())\n",
    "if v1==v2 or v2==v3 or v3==v1:\n",
    "    print('sum will be zero')\n",
    "else:\n",
    "    i=v1+v2+v3\n",
    "    print(i)"
   ]
  },
  {
   "cell_type": "code",
   "execution_count": 8,
   "id": "553cc0eb",
   "metadata": {},
   "outputs": [
    {
     "name": "stdout",
     "output_type": "stream",
     "text": [
      "27\n",
      "7\n",
      "false\n"
     ]
    }
   ],
   "source": [
    "# Write a Python program that will return true if the two given integer values are equal or their sum or difference is 5.\n",
    "n=int(input())\n",
    "m=int(input())\n",
    "if n==m or n+m==5 or n-m==5:\n",
    "    print('true')\n",
    "else:\n",
    "    print('false')\n",
    "    \n",
    "  "
   ]
  },
  {
   "cell_type": "code",
   "execution_count": 9,
   "id": "65984ec8",
   "metadata": {},
   "outputs": [
    {
     "name": "stdout",
     "output_type": "stream",
     "text": [
      "7\n",
      "28\n"
     ]
    }
   ],
   "source": [
    "# Write a python program to sum of the first n positive integers.\n",
    "n=int(input())\n",
    "sum=(n*(n+1))//2\n",
    "print(sum)"
   ]
  },
  {
   "cell_type": "code",
   "execution_count": 10,
   "id": "91a46fef",
   "metadata": {},
   "outputs": [
    {
     "data": {
      "text/plain": [
       "15"
      ]
     },
     "execution_count": 10,
     "metadata": {},
     "output_type": "execute_result"
    }
   ],
   "source": [
    "# Write a Python program to calculate the length of a string.\n",
    "str='how old you are'\n",
    "len(str)"
   ]
  },
  {
   "cell_type": "code",
   "execution_count": 3,
   "id": "3fd4007b",
   "metadata": {},
   "outputs": [
    {
     "data": {
      "text/plain": [
       "4"
      ]
     },
     "execution_count": 3,
     "metadata": {},
     "output_type": "execute_result"
    }
   ],
   "source": [
    "# Write a Python program to count occurrences of a substring in a string.\n",
    "str1='banana is very healthy fruit'\n",
    "str1.count('a')"
   ]
  },
  {
   "cell_type": "code",
   "execution_count": 2,
   "id": "bd3e20b5",
   "metadata": {},
   "outputs": [
    {
     "name": "stdout",
     "output_type": "stream",
     "text": [
      "devang sir is knowlegble person\n",
      "{'d': 1, 'e': 4, 'v': 1, 'a': 1, 'n': 3, 'g': 2, ' ': 4, 's': 3, 'i': 2, 'r': 2, 'k': 1, 'o': 2, 'w': 1, 'l': 2, 'b': 1, 'p': 1}\n"
     ]
    }
   ],
   "source": [
    "# Write a Python program to count the number of characters (character frequency) in a string\n",
    "str1=input()\n",
    "dict={}\n",
    "for i in (str1):\n",
    "    if i in dict:\n",
    "        dict[i] +=1\n",
    "    else:\n",
    "        dict[i] =1\n",
    "print(dict)\n"
   ]
  },
  {
   "cell_type": "code",
   "execution_count": null,
   "id": "cff4b256",
   "metadata": {},
   "outputs": [],
   "source": [
    "# What are negative indexes and why are they used?\n",
    "#nagative indexes means it is a index value for right to left .it is a donoted by -1,-2,....it is a use in slicing to get \n",
    "# a sub string of a string. the range of slicing [star:stop:step] when we have long string we get near to last element then\n",
    "# we use negative index"
   ]
  },
  {
   "cell_type": "code",
   "execution_count": 1,
   "id": "11b59cc7",
   "metadata": {},
   "outputs": [
    {
     "name": "stdout",
     "output_type": "stream",
     "text": [
      "I 2\n",
      "am 2\n",
      "menil 1\n",
      "and 1\n",
      "I 2\n",
      "am 2\n",
      "learning 1\n",
      "Python. 1\n"
     ]
    }
   ],
   "source": [
    "# Write a Python program to count the occurrences of each word in a given sentence\n",
    "\n",
    "str1 = \"I am menil and I am learning Python.\"\n",
    "l1 = str1.split()\n",
    "for i in l1:\n",
    "    f = l1.count(i)\n",
    "    print(i, f)"
   ]
  },
  {
   "cell_type": "code",
   "execution_count": null,
   "id": "f9c79e34",
   "metadata": {},
   "outputs": [],
   "source": [
    "# Write a Python program to get a single string from two given strings, separated by a space and swap the first two characters of each string.\n",
    "v=input()\n",
    "x=input()\n",
    "if len(v)>2 and len(x)>2:\n",
    "    v1=v[:2]\n",
    "    x1=x[:2]\n",
    "    v2=v[2:]\n",
    "    x2=x[2:]\n",
    "    ans=v1+x2\n",
    "    ansr=x1+v2\n",
    "    print(ans)\n",
    "    print(ansr)\n",
    "else:\n",
    "    print('invalied string')"
   ]
  },
  {
   "cell_type": "code",
   "execution_count": 5,
   "id": "58abee0d",
   "metadata": {},
   "outputs": [
    {
     "name": "stdout",
     "output_type": "stream",
     "text": [
      "we\n",
      "we\n"
     ]
    }
   ],
   "source": [
    "# Write a Python program to add 'ing' at the end of a given string (length should be at least 3). If the given string already ends with 'ing' then add \n",
    "#'ly' instead if the string length of the given string is less than 3, leave it @##unchanged.\n",
    "string=str(input())\n",
    "\n",
    "if string.endswith('ing'):\n",
    "    string +='ly'\n",
    "elif len(string)>=3:\n",
    "    string +='ing'\n",
    "print(string)\n"
   ]
  },
  {
   "cell_type": "code",
   "execution_count": 4,
   "id": "dff87aa7",
   "metadata": {},
   "outputs": [
    {
     "name": "stdout",
     "output_type": "stream",
     "text": [
      "they people are good\n"
     ]
    }
   ],
   "source": [
    "# Write a Python program to find the first appearance of the substring 'not' and 'poor' from a given string, if 'not' follows the 'poor', replace the \n",
    "#whole 'not'...'poor' substring with 'good'. Return the resulting string.\n",
    "str1 = 'they people are not a bed and poor'\n",
    "str2=str1.replace('not a bed and poor','good')\n",
    "print(str2)\n"
   ]
  },
  {
   "cell_type": "code",
   "execution_count": null,
   "id": "63a66ac5",
   "metadata": {},
   "outputs": [],
   "source": [
    "# Write a Python function that takes a list of words and returns the length of the longest one.\n",
    "m=['menil','mayur','ritesh','sidhdhesh','ritik','prerna','snehal']\n",
    "longest=0\n",
    "for i in m:\n",
    "    if len(i) > longest:\n",
    "        longest = len(i)\n",
    "        \n",
    "print(longest)    "
   ]
  },
  {
   "cell_type": "code",
   "execution_count": null,
   "id": "7512c078",
   "metadata": {},
   "outputs": [],
   "source": [
    "# Write a Python function to reverses a string if its length is a multiple of 4\n",
    "var=input()\n",
    "if len(var)%4==0:\n",
    "    m=var[::-1]\n",
    "    print(m)\n",
    "else:\n",
    "    print('reverse not possible')"
   ]
  },
  {
   "cell_type": "code",
   "execution_count": 20,
   "id": "f023e28b",
   "metadata": {},
   "outputs": [
    {
     "name": "stdout",
     "output_type": "stream",
     "text": [
      "lion\n",
      "lion\n"
     ]
    }
   ],
   "source": [
    "# Write a Python program to get a string made of the first 2 and the last 2 chars from a given a string. If the string length is less than 2, return \n",
    "#instead of the empty string.\n",
    "a=input()\n",
    "length=len(a)\n",
    "\n",
    "if length < 2:\n",
    "        print('empty string')\n",
    "else:\n",
    "    print(a[:2]+a[-2:])\n",
    "    "
   ]
  },
  {
   "cell_type": "code",
   "execution_count": 19,
   "id": "2147af53",
   "metadata": {},
   "outputs": [
    {
     "name": "stdout",
     "output_type": "stream",
     "text": [
      "menil pareshkumar lakdiwala\n"
     ]
    }
   ],
   "source": [
    "# Write a Python function to insert a string in the middle of a string\n",
    "h='menil lakdiwala'\n",
    "l='pareshkumar '\n",
    "mid=len(h)//2-1\n",
    "final=h[:mid]+l+h[mid:]\n",
    "\n",
    "print(final)"
   ]
  },
  {
   "cell_type": "code",
   "execution_count": null,
   "id": "fc9e882b",
   "metadata": {},
   "outputs": [],
   "source": []
  },
  {
   "cell_type": "code",
   "execution_count": null,
   "id": "cfa50b90",
   "metadata": {},
   "outputs": [],
   "source": []
  }
 ],
 "metadata": {
  "kernelspec": {
   "display_name": "Python 3 (ipykernel)",
   "language": "python",
   "name": "python3"
  },
  "language_info": {
   "codemirror_mode": {
    "name": "ipython",
    "version": 3
   },
   "file_extension": ".py",
   "mimetype": "text/x-python",
   "name": "python",
   "nbconvert_exporter": "python",
   "pygments_lexer": "ipython3",
   "version": "3.10.9"
  }
 },
 "nbformat": 4,
 "nbformat_minor": 5
}
